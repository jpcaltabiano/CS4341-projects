{
 "cells": [
  {
   "cell_type": "code",
   "execution_count": 2,
   "metadata": {},
   "outputs": [],
   "source": [
    "%%capture\n",
    "# This is necessary to find the main code\n",
    "import sys\n",
    "sys.path.insert(0, '../../bomberman')\n",
    "sys.path.insert(1, '..')\n",
    "\n",
    "import pygame\n",
    "\n",
    "# Import necessary stuff\n",
    "import random\n",
    "from game import Game\n",
    "from monsters.stupid_monster import StupidMonster\n",
    "from monsters.selfpreserving_monster import SelfPreservingMonster\n",
    "\n",
    "# TODO This is your code!\n",
    "sys.path.insert(1, '../groupNN')\n",
    "from approxqcharacter import ApproxQCharacter\n",
    "import pandas as pd\n",
    "import numpy as np\n",
    "from matplotlib import pyplot as plt\n",
    "import time\n",
    "\n",
    "# Create the game\n",
    "random.seed(time.time()) # TODO Change this if you want different random choices\n",
    "\n",
    "ws_history = pd.DataFrame(columns=['walls', 'monsters', 'exits'])\n",
    "wall_sum, monster_sum, exit_sum = 0, 0, 0\n",
    "\n",
    "epochs = 10\n",
    "ws = [3.59344369e+03, 2.71034210e+03, 3.54643775e+03, -1.91029131e+01, 5.39162500e+02, -9.84263751e+00, -1.70436406e+00, 0.00000000e+00]\n",
    "for i in range(epochs):\n",
    "    g = Game.fromfile('map.txt')\n",
    "    g.add_monster(StupidMonster(\"stupid\", \"S\", 3, 5))\n",
    "    g.add_monster(SelfPreservingMonster(\"aggressive\", \"A\", 3, 13, 2))\n",
    "    ours = ApproxQCharacter(\"me\",\"C\", 0, 0)\n",
    "    g.add_character(ours)\n",
    "    g.go(100)\n",
    "    exit_sum += ours.exitSuccess\n",
    "    monster_sum += ours.monsterKilled\n",
    "    wall_sum += ours.wallExploded\n",
    "    ws_history = ws_history.append({'walls': wall_sum, 'monsters': monster_sum, 'exits': exit_sum}, ignore_index=True)"
   ]
  },
  {
   "cell_type": "code",
   "execution_count": null,
   "metadata": {},
   "outputs": [],
   "source": []
  }
 ],
 "metadata": {
  "kernelspec": {
   "display_name": "Python 3",
   "language": "python",
   "name": "python3"
  },
  "language_info": {
   "codemirror_mode": {
    "name": "ipython",
    "version": 3
   },
   "file_extension": ".py",
   "mimetype": "text/x-python",
   "name": "python",
   "nbconvert_exporter": "python",
   "pygments_lexer": "ipython3",
   "version": "3.6.8"
  }
 },
 "nbformat": 4,
 "nbformat_minor": 4
}
