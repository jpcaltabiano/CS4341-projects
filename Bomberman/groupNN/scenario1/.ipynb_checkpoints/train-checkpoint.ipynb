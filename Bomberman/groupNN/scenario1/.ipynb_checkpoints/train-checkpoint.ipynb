{
 "cells": [
  {
   "cell_type": "code",
   "execution_count": 1,
   "metadata": {},
   "outputs": [
    {
     "name": "stdout",
     "output_type": "stream",
     "text": [
      "pygame 1.9.6\n",
      "Hello from the pygame community. https://www.pygame.org/contribute.html\n"
     ]
    }
   ],
   "source": [
    "# This is necessary to find the main code\n",
    "import sys\n",
    "sys.path.insert(0, '../../bomberman')\n",
    "sys.path.insert(1, '..')\n",
    "\n",
    "import pygame\n",
    "\n",
    "# Import necessary stuff\n",
    "import random\n",
    "from game import Game\n",
    "from monsters.stupid_monster import StupidMonster\n",
    "from monsters.selfpreserving_monster import SelfPreservingMonster\n",
    "\n",
    "# TODO This is your code!\n",
    "sys.path.insert(1, '../groupNN')\n",
    "from approxqcharacter import ApproxQCharacter\n",
    "import pandas as pd\n",
    "import numpy as np\n",
    "from matplotlib import pyplot as plt\n",
    "\n",
    "# Create the game\n",
    "random.seed() # TODO Change this if you want different random choices"
   ]
  },
  {
   "cell_type": "code",
   "execution_count": 2,
   "metadata": {
    "scrolled": false
   },
   "outputs": [
    {
     "name": "stdout",
     "output_type": "stream",
     "text": [
      "qchar reward:  0.1\n",
      "qchar reward:  0.1\n",
      "qchar reward:  0.1\n",
      "qchar reward:  0.1\n",
      "qchar reward:  0.1\n",
      "qchar reward:  0.1\n",
      "qchar reward:  0.1\n",
      "qchar reward:  0.1\n",
      "qchar reward:  0.1\n",
      "qchar reward:  0.1\n",
      "qchar reward:  -0.7\n",
      "qchar reward:  0.1\n",
      "qchar reward:  0.1\n",
      "qchar reward:  0.1\n",
      "qchar reward:  0.1\n",
      "qchar reward:  0.1\n",
      "qchar reward:  0.1\n",
      "qchar reward:  0.1\n",
      "qchar reward:  0.1\n",
      "qchar reward:  -0.7\n",
      "qchar reward:  -0.7\n",
      "qchar reward:  -0.7\n",
      "Game 0: [-0.055016779850302705, 0.027755425621911252, 9.908496233028114, 0.0]\n",
      "event:  me killed itself\n",
      "\n",
      "TIME LEFT:  4977\n",
      "+--------+\n",
      "|*       |\n",
      "|        |\n",
      "|        |\n",
      "|        |\n",
      "|        |\n",
      "|        |\n",
      "|      S |\n",
      "|        |\n",
      "|        |\n",
      "|        |\n",
      "|        |\n",
      "|        |\n",
      "|        |\n",
      "|        |\n",
      "|   A    |\n",
      "|        |\n",
      "|        |\n",
      "|        |\n",
      "|       #|\n",
      "+--------+\n",
      "SCORES\n",
      "me -4978\n",
      "EVENTS\n",
      "me killed itself\n"
     ]
    }
   ],
   "source": [
    "# %%capture\n",
    "ws_history = pd.DataFrame(columns=['w1', 'w2', 'w3', 'exits'])\n",
    "\n",
    "\n",
    "ws = [0, 0, 10, 0]\n",
    "epochs = 1\n",
    "\n",
    "for i in range(0, epochs):\n",
    "    g = Game.fromfile('map.txt')\n",
    "    g.add_monster(StupidMonster(\"stupid\", \"S\", 3, 5,))\n",
    "    g.add_monster(SelfPreservingMonster(\"aggressive\", \"A\", 3, 13, 2))\n",
    "\n",
    "    ours = ApproxQCharacter(\"me\", \"C\", 0, 0)\n",
    "    ours.ws = ws\n",
    "\n",
    "    g.add_character(ours)\n",
    "\n",
    "    # Run!\n",
    "    exits = 0\n",
    "    while not g.done():\n",
    "        (g.world, g.events) = g.world.next()\n",
    "        pygame.event.clear()\n",
    "        g.world.next_decisions()\n",
    "\n",
    "    ws = ours.ws\n",
    "    print(f\"Game {i}: {ws}\")\n",
    "    \n",
    "    for e in g.world.events:\n",
    "        print(\"event: \", e)\n",
    "    \n",
    "    g.go(1)\n",
    "\n",
    "    ws_history = ws_history.append({'w1': ws[0], 'w2': ws[1], 'w3': ws[2], 'exits': exits}, ignore_index=True)\n"
   ]
  },
  {
   "cell_type": "code",
   "execution_count": 2,
   "metadata": {},
   "outputs": [
    {
     "ename": "NameError",
     "evalue": "name 'plt' is not defined",
     "output_type": "error",
     "traceback": [
      "\u001b[0;31m---------------------------------------------------------------------------\u001b[0m",
      "\u001b[0;31mNameError\u001b[0m                                 Traceback (most recent call last)",
      "\u001b[0;32m<ipython-input-2-a59716b8b325>\u001b[0m in \u001b[0;36m<module>\u001b[0;34m\u001b[0m\n\u001b[0;32m----> 1\u001b[0;31m \u001b[0mplt\u001b[0m\u001b[0;34m.\u001b[0m\u001b[0mplot\u001b[0m\u001b[0;34m(\u001b[0m\u001b[0mws_history\u001b[0m\u001b[0;34m[\u001b[0m\u001b[0;34m'w1'\u001b[0m\u001b[0;34m]\u001b[0m\u001b[0;34m,\u001b[0m \u001b[0mlabel\u001b[0m\u001b[0;34m=\u001b[0m\u001b[0;34m'w1'\u001b[0m\u001b[0;34m)\u001b[0m\u001b[0;34m\u001b[0m\u001b[0;34m\u001b[0m\u001b[0m\n\u001b[0m\u001b[1;32m      2\u001b[0m \u001b[0mplt\u001b[0m\u001b[0;34m.\u001b[0m\u001b[0mplot\u001b[0m\u001b[0;34m(\u001b[0m\u001b[0mws_history\u001b[0m\u001b[0;34m[\u001b[0m\u001b[0;34m'w2'\u001b[0m\u001b[0;34m]\u001b[0m\u001b[0;34m,\u001b[0m \u001b[0mlabel\u001b[0m\u001b[0;34m=\u001b[0m\u001b[0;34m'w2'\u001b[0m\u001b[0;34m)\u001b[0m\u001b[0;34m\u001b[0m\u001b[0;34m\u001b[0m\u001b[0m\n\u001b[1;32m      3\u001b[0m \u001b[0mplt\u001b[0m\u001b[0;34m.\u001b[0m\u001b[0mplot\u001b[0m\u001b[0;34m(\u001b[0m\u001b[0mws_history\u001b[0m\u001b[0;34m[\u001b[0m\u001b[0;34m'w3'\u001b[0m\u001b[0;34m]\u001b[0m\u001b[0;34m,\u001b[0m \u001b[0mlabel\u001b[0m\u001b[0;34m=\u001b[0m\u001b[0;34m'w3'\u001b[0m\u001b[0;34m)\u001b[0m\u001b[0;34m\u001b[0m\u001b[0;34m\u001b[0m\u001b[0m\n\u001b[1;32m      4\u001b[0m \u001b[0mplt\u001b[0m\u001b[0;34m.\u001b[0m\u001b[0mplot\u001b[0m\u001b[0;34m(\u001b[0m\u001b[0mws_history\u001b[0m\u001b[0;34m[\u001b[0m\u001b[0;34m'w4'\u001b[0m\u001b[0;34m]\u001b[0m\u001b[0;34m,\u001b[0m \u001b[0mlabel\u001b[0m\u001b[0;34m=\u001b[0m\u001b[0;34m'w4'\u001b[0m\u001b[0;34m)\u001b[0m\u001b[0;34m\u001b[0m\u001b[0;34m\u001b[0m\u001b[0m\n\u001b[1;32m      5\u001b[0m \u001b[0mplt\u001b[0m\u001b[0;34m.\u001b[0m\u001b[0mplot\u001b[0m\u001b[0;34m(\u001b[0m\u001b[0mws_history\u001b[0m\u001b[0;34m[\u001b[0m\u001b[0;34m'exits'\u001b[0m\u001b[0;34m]\u001b[0m\u001b[0;34m,\u001b[0m \u001b[0mlabel\u001b[0m\u001b[0;34m=\u001b[0m\u001b[0;34m'exits'\u001b[0m\u001b[0;34m)\u001b[0m\u001b[0;34m\u001b[0m\u001b[0;34m\u001b[0m\u001b[0m\n",
      "\u001b[0;31mNameError\u001b[0m: name 'plt' is not defined"
     ]
    }
   ],
   "source": [
    "plt.plot(ws_history['w1'], label='w1')\n",
    "plt.plot(ws_history['w2'], label='w2')\n",
    "plt.plot(ws_history['w3'], label='w3')\n",
    "plt.plot(ws_history['exits'], label='exits')\n",
    "plt.legend()\n",
    "plt.show()\n",
    "\n",
    "print(ws_history['exits'].sum())"
   ]
  },
  {
   "cell_type": "code",
   "execution_count": null,
   "metadata": {},
   "outputs": [],
   "source": []
  },
  {
   "cell_type": "code",
   "execution_count": null,
   "metadata": {},
   "outputs": [],
   "source": []
  }
 ],
 "metadata": {
  "kernelspec": {
   "display_name": "Python 3",
   "language": "python",
   "name": "python3"
  },
  "language_info": {
   "codemirror_mode": {
    "name": "ipython",
    "version": 3
   },
   "file_extension": ".py",
   "mimetype": "text/x-python",
   "name": "python",
   "nbconvert_exporter": "python",
   "pygments_lexer": "ipython3",
   "version": "3.6.8"
  }
 },
 "nbformat": 4,
 "nbformat_minor": 4
}
