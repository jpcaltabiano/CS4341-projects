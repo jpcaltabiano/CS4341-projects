{
 "cells": [
  {
   "cell_type": "code",
   "execution_count": 1,
   "metadata": {},
   "outputs": [
    {
     "ename": "AttributeError",
     "evalue": "'NoneType' object has no attribute 'exitSuccess'",
     "output_type": "error",
     "traceback": [
      "\u001b[0;31m---------------------------------------------------------------------------\u001b[0m",
      "\u001b[0;31mAttributeError\u001b[0m                            Traceback (most recent call last)",
      "\u001b[0;32m<ipython-input-1-72838f2afccc>\u001b[0m in \u001b[0;36m<module>\u001b[0;34m\u001b[0m\n\u001b[1;32m     34\u001b[0m     \u001b[0mours\u001b[0m \u001b[0;34m=\u001b[0m \u001b[0mg\u001b[0m\u001b[0;34m.\u001b[0m\u001b[0madd_character\u001b[0m\u001b[0;34m(\u001b[0m\u001b[0mApproxQCharacter\u001b[0m\u001b[0;34m(\u001b[0m\u001b[0;34m\"me\"\u001b[0m\u001b[0;34m,\u001b[0m\u001b[0;34m\"C\"\u001b[0m\u001b[0;34m,\u001b[0m \u001b[0;36m0\u001b[0m\u001b[0;34m,\u001b[0m \u001b[0;36m0\u001b[0m\u001b[0;34m)\u001b[0m\u001b[0;34m)\u001b[0m\u001b[0;34m\u001b[0m\u001b[0;34m\u001b[0m\u001b[0m\n\u001b[1;32m     35\u001b[0m     \u001b[0mg\u001b[0m\u001b[0;34m.\u001b[0m\u001b[0mgo\u001b[0m\u001b[0;34m(\u001b[0m\u001b[0;36m100\u001b[0m\u001b[0;34m)\u001b[0m\u001b[0;34m\u001b[0m\u001b[0;34m\u001b[0m\u001b[0m\n\u001b[0;32m---> 36\u001b[0;31m     \u001b[0mexit_sum\u001b[0m \u001b[0;34m+=\u001b[0m \u001b[0mours\u001b[0m\u001b[0;34m.\u001b[0m\u001b[0mexitSuccess\u001b[0m\u001b[0;34m\u001b[0m\u001b[0;34m\u001b[0m\u001b[0m\n\u001b[0m\u001b[1;32m     37\u001b[0m     \u001b[0mmonster_sum\u001b[0m \u001b[0;34m+=\u001b[0m \u001b[0mours\u001b[0m\u001b[0;34m.\u001b[0m\u001b[0mmonsterKilled\u001b[0m\u001b[0;34m\u001b[0m\u001b[0;34m\u001b[0m\u001b[0m\n\u001b[1;32m     38\u001b[0m     \u001b[0mwall_sum\u001b[0m \u001b[0;34m+=\u001b[0m \u001b[0mours\u001b[0m\u001b[0;34m.\u001b[0m\u001b[0mwallExploded\u001b[0m\u001b[0;34m\u001b[0m\u001b[0;34m\u001b[0m\u001b[0m\n",
      "\u001b[0;31mAttributeError\u001b[0m: 'NoneType' object has no attribute 'exitSuccess'"
     ]
    }
   ],
   "source": [
    "%%capture\n",
    "# This is necessary to find the main code\n",
    "import sys\n",
    "sys.path.insert(0, '../../bomberman')\n",
    "sys.path.insert(1, '..')\n",
    "\n",
    "import pygame\n",
    "\n",
    "# Import necessary stuff\n",
    "import random\n",
    "from game import Game\n",
    "from monsters.stupid_monster import StupidMonster\n",
    "from monsters.selfpreserving_monster import SelfPreservingMonster\n",
    "\n",
    "# TODO This is your code!\n",
    "sys.path.insert(1, '../groupNN')\n",
    "from approxqcharacter import ApproxQCharacter\n",
    "import pandas as pd\n",
    "import numpy as np\n",
    "from matplotlib import pyplot as plt\n",
    "import time\n",
    "\n",
    "# Create the game\n",
    "random.seed(time.time()) # TODO Change this if you want different random choices\n",
    "\n",
    "ws_history = pd.DataFrame(columns=['walls', 'monsters', 'exits'])\n",
    "wall_sum, monster_sum, exit_sum = 0, 0, 0\n",
    "\n",
    "epochs = 10\n",
    "ws = [3.59344369e+03, 2.71034210e+03, 3.54643775e+03, -1.91029131e+01, 5.39162500e+02, -9.84263751e+00, -1.70436406e+00, 0.00000000e+00]\n",
    "for i in range(epochs):\n",
    "    g = Game.fromfile('map.txt')\n",
    "    g.add_monster(StupidMonster(\"stupid\", \"S\", 3, 5))\n",
    "    g.add_monster(SelfPreservingMonster(\"aggressive\", \"A\", 3, 13, 2))\n",
    "    ours = ApproxQCharacter(\"me\",\"C\", 0, 0)\n",
    "    g.add_character(ours)\n",
    "    g.go(100)\n",
    "    exit_sum += ours.exitSuccess\n",
    "    monster_sum += ours.monsterKilled\n",
    "    wall_sum += ours.wallExploded\n",
    "    ws_history = ws_history.append({'walls': wall_sum, 'monsters': monster_sum, 'exits': exit_sum}, ignore_index=True)"
   ]
  },
  {
   "cell_type": "code",
   "execution_count": null,
   "metadata": {},
   "outputs": [],
   "source": []
  }
 ],
 "metadata": {
  "kernelspec": {
   "display_name": "Python 3",
   "language": "python",
   "name": "python3"
  },
  "language_info": {
   "codemirror_mode": {
    "name": "ipython",
    "version": 3
   },
   "file_extension": ".py",
   "mimetype": "text/x-python",
   "name": "python",
   "nbconvert_exporter": "python",
   "pygments_lexer": "ipython3",
   "version": "3.6.8"
  }
 },
 "nbformat": 4,
 "nbformat_minor": 4
}
